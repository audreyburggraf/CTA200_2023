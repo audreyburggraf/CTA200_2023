{
 "cells": [
  {
   "cell_type": "code",
   "execution_count": 6,
   "id": "cd8452ab",
   "metadata": {},
   "outputs": [],
   "source": [
    "import numpy as np\n",
    "import matplotlib as mpl\n",
    "import matplotlib.pyplot as plt"
   ]
  },
  {
   "cell_type": "markdown",
   "id": "3d1ec7bb",
   "metadata": {},
   "source": [
    "# Part 1 "
   ]
  },
  {
   "cell_type": "code",
   "execution_count": 4,
   "id": "38edab63",
   "metadata": {},
   "outputs": [
    {
     "data": {
      "text/plain": [
       "3"
      ]
     },
     "execution_count": 4,
     "metadata": {},
     "output_type": "execute_result"
    }
   ],
   "source": [
    "def f(x):           # define a function called f of variable x\n",
    "    a=x**3-x**2-1   # a is equal to the function given\n",
    "    return a        # function f returns a\n",
    "\n",
    "f(2)                # check (2^3-2^2-1=8-4-1=3)"
   ]
  },
  {
   "cell_type": "code",
   "execution_count": 5,
   "id": "d44efcf2",
   "metadata": {},
   "outputs": [
    {
     "data": {
      "text/plain": [
       "8"
      ]
     },
     "execution_count": 5,
     "metadata": {},
     "output_type": "execute_result"
    }
   ],
   "source": [
    "def df(x):          # define a function called df of varible x \n",
    "    b=3*x**2-2*x    # b is equal to the derivative of the function given \n",
    "    return b        # function df returns b\n",
    "\n",
    "df(2)               # check (3(2)^2-2(2)=12-4=8)"
   ]
  },
  {
   "cell_type": "markdown",
   "id": "d41878ed",
   "metadata": {},
   "source": [
    "# Part 2"
   ]
  },
  {
   "cell_type": "code",
   "execution_count": 7,
   "id": "71bac3c1",
   "metadata": {},
   "outputs": [],
   "source": [
    "def newton(f,df,x0,epsilon,max_iter):  # define a function called newton of many variables\n",
    "    xn = x0                            # xn is equal o x0\n",
    "    for n in range(0,max_iter):        # for loop that runs while variable n is within 0 and max_iter \n",
    "        fxn = f(xn)                    # fxn represents function f at xn\n",
    "        if abs(fxn) < epsilon:         # if the absolute value of fxn is less than epsilon  \n",
    "            print('Found root in',n,'iterations.') # if true, print \n",
    "            return xn                  # return value of xn                        \n",
    "        dfxn = df(xn)                  # dfxn is equal to function df at point xn \n",
    "        if dfxn == 0:                  # if dfxn is equal to 0 \n",
    "            print('Iteration failed')  # if true, print \n",
    "            return None                # return nothing \n",
    "        xn = xn - fxn/dfxn             # redefine xn as xn - fxn/dfxn\n",
    "    print('Exceeded maximum iterations. No solution found.')   #print\n",
    "    return None                        # return nothing "
   ]
  },
  {
   "cell_type": "markdown",
   "id": "0a057bca",
   "metadata": {},
   "source": [
    "# Part 3"
   ]
  },
  {
   "cell_type": "code",
   "execution_count": 13,
   "id": "f662458b",
   "metadata": {},
   "outputs": [
    {
     "name": "stdout",
     "output_type": "stream",
     "text": [
      "Found root in 11 iterations.\n"
     ]
    },
    {
     "data": {
      "text/plain": [
       "1.465571231888127"
      ]
     },
     "execution_count": 13,
     "metadata": {},
     "output_type": "execute_result"
    }
   ],
   "source": [
    "newton(f,df,20,1e-6,30)             # run newton functions for set functions and variables "
   ]
  },
  {
   "cell_type": "code",
   "execution_count": 14,
   "id": "e9ee6e1a",
   "metadata": {},
   "outputs": [
    {
     "name": "stdout",
     "output_type": "stream",
     "text": [
      "Found root in 20 iterations.\n"
     ]
    },
    {
     "data": {
      "text/plain": [
       "1.4655713974990228"
      ]
     },
     "execution_count": 14,
     "metadata": {},
     "output_type": "execute_result"
    }
   ],
   "source": [
    "newton(f,df,1000,1e-6,30)             # run newton functions for set functions and variables "
   ]
  },
  {
   "cell_type": "code",
   "execution_count": 16,
   "id": "3af0f7e5",
   "metadata": {},
   "outputs": [
    {
     "name": "stdout",
     "output_type": "stream",
     "text": [
      "Found root in 9 iterations.\n"
     ]
    },
    {
     "data": {
      "text/plain": [
       "1.465571232470246"
      ]
     },
     "execution_count": 16,
     "metadata": {},
     "output_type": "execute_result"
    }
   ],
   "source": [
    "newton(f,df,10,1e-8,30)             # run newton functions for set functions and variables "
   ]
  },
  {
   "cell_type": "code",
   "execution_count": null,
   "id": "bd25394c",
   "metadata": {},
   "outputs": [],
   "source": []
  }
 ],
 "metadata": {
  "kernelspec": {
   "display_name": "Python 3 (ipykernel)",
   "language": "python",
   "name": "python3"
  },
  "language_info": {
   "codemirror_mode": {
    "name": "ipython",
    "version": 3
   },
   "file_extension": ".py",
   "mimetype": "text/x-python",
   "name": "python",
   "nbconvert_exporter": "python",
   "pygments_lexer": "ipython3",
   "version": "3.9.7"
  }
 },
 "nbformat": 4,
 "nbformat_minor": 5
}
